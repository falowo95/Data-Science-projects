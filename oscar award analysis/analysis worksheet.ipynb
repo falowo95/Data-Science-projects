{
 "cells": [
  {
   "cell_type": "markdown",
   "metadata": {},
   "source": [
    "# Problem Statement\n",
    "\n",
    "Consider this dataset Oscars-demographics.csv, which can be downloaded from Blackboard. The given dataset contains records about the race, religion, age, and other demographic details of all Oscar winners from 1927 to 2014 in various categories such as best actor, best actress, best supporting actor, best supporting actress, and best director. \n",
    "# Objective: \n",
    "Using the given dataset, develop a predictive model to predict which type of award is won by a person based on a range of features such as country of origin, race, age, etc. and to propose a set of clusters that may make business sense of the movies industry.\n",
    "\n",
    "# Exploring the data\n",
    "\n",
    "Your first task is to prepare the data and carry out data munging or cleansing, bearing in mind the question you would like to answer. Namely, what is the impact of country of origin, race, religion, age in winning an Oscar award? Address the following questions:\n",
    "\n",
    "# 1 Part 1 - Building up a basic predictive model\n",
    "\n",
    "Load the dataset, and consider the subset of the dataframe formed by the following columns:\n",
    "\n",
    "cols = [’birthplace’, ’date_of_birth’,’race_ethnicity’, ’year_of_award’, ’award’] In this section, we will only analyse this subset of the given dataset.\n",
    "\n",
    "1. Data cleaning: Using pandas, show the first 3 rows of the subset. Then, display all the distinct values for the column award in the entire subset. If you have a closer look at the entire subset, you will see that there are some inconsistencies on the way the birthdays have been recorded and that for some rows, the country of origin is missing. Add a new column ldob to your current dataframe to record the length of the date of birth for each row; then show the distinct values in the column ldob. Write the following functions:"
   ]
  },
  {
   "cell_type": "code",
   "execution_count": 1,
   "metadata": {},
   "outputs": [],
   "source": [
    "## Importing the libraries\n",
    "import numpy as np\n",
    "import matplotlib.pyplot as plt\n",
    "import pandas as pd\n",
    "import re\n",
    "import seaborn as sns\n",
    "import warnings\n",
    "warnings.filterwarnings('ignore')\n",
    "from sklearn.model_selection import train_test_split\n",
    "from sklearn.cluster import KMeans  \n",
    "from sklearn.metrics import plot_confusion_matrix,ConfusionMatrixDisplay\n",
    "from sklearn.model_selection import train_test_split\n",
    "from sklearn.ensemble import RandomForestClassifier"
   ]
  },
  {
   "cell_type": "code",
   "execution_count": 2,
   "metadata": {},
   "outputs": [
    {
     "data": {
      "text/html": [
       "<div>\n",
       "<style scoped>\n",
       "    .dataframe tbody tr th:only-of-type {\n",
       "        vertical-align: middle;\n",
       "    }\n",
       "\n",
       "    .dataframe tbody tr th {\n",
       "        vertical-align: top;\n",
       "    }\n",
       "\n",
       "    .dataframe thead th {\n",
       "        text-align: right;\n",
       "    }\n",
       "</style>\n",
       "<table border=\"1\" class=\"dataframe\">\n",
       "  <thead>\n",
       "    <tr style=\"text-align: right;\">\n",
       "      <th></th>\n",
       "      <th>birthplace</th>\n",
       "      <th>date_of_birth</th>\n",
       "      <th>race_ethnicity</th>\n",
       "      <th>year_of_award</th>\n",
       "      <th>award</th>\n",
       "    </tr>\n",
       "  </thead>\n",
       "  <tbody>\n",
       "    <tr>\n",
       "      <th>0</th>\n",
       "      <td>Chisinau, Moldova</td>\n",
       "      <td>30-Sep-1895</td>\n",
       "      <td>White</td>\n",
       "      <td>1927</td>\n",
       "      <td>Best Director</td>\n",
       "    </tr>\n",
       "    <tr>\n",
       "      <th>1</th>\n",
       "      <td>Glasgow, Scotland</td>\n",
       "      <td>2-Feb-1886</td>\n",
       "      <td>White</td>\n",
       "      <td>1930</td>\n",
       "      <td>Best Director</td>\n",
       "    </tr>\n",
       "    <tr>\n",
       "      <th>2</th>\n",
       "      <td>Chisinau, Moldova</td>\n",
       "      <td>30-Sep-1895</td>\n",
       "      <td>White</td>\n",
       "      <td>1931</td>\n",
       "      <td>Best Director</td>\n",
       "    </tr>\n",
       "  </tbody>\n",
       "</table>\n",
       "</div>"
      ],
      "text/plain": [
       "          birthplace date_of_birth race_ethnicity  year_of_award  \\\n",
       "0  Chisinau, Moldova   30-Sep-1895          White           1927   \n",
       "1  Glasgow, Scotland    2-Feb-1886          White           1930   \n",
       "2  Chisinau, Moldova   30-Sep-1895          White           1931   \n",
       "\n",
       "           award  \n",
       "0  Best Director  \n",
       "1  Best Director  \n",
       "2  Best Director  "
      ]
     },
     "execution_count": 2,
     "metadata": {},
     "output_type": "execute_result"
    }
   ],
   "source": [
    "# Importing the dataset\n",
    "# Reading the provided Dataset        // encoding = ac-roman used as file was created in a mac Format originally.\n",
    "# Selecting birthplace, date_of_birth, race_ethnicity, year_of_award and award columns\n",
    "# Printing the first 3 rows of the dataset.\n",
    "data = pd.read_csv('oscars-demographics.csv', encoding ='mac-roman')\n",
    "\n",
    "dataset = data[['birthplace','date_of_birth','race_ethnicity','year_of_award','award']]\n",
    "dataset_2= data[['sexual_orientation','movie','religion','person']]\n",
    "dataset.head(3)\n"
   ]
  },
  {
   "cell_type": "code",
   "execution_count": 49,
   "metadata": {},
   "outputs": [
    {
     "data": {
      "text/plain": [
       "array(['Best Director', 'Best Actor', 'Best Supporting Actor',\n",
       "       'Best Actress', 'Best Supporting Actress'], dtype=object)"
      ]
     },
     "execution_count": 49,
     "metadata": {},
     "output_type": "execute_result"
    }
   ],
   "source": [
    "# Displaying all unique values in the column award of the dataset\n",
    "dataset['award'].unique()"
   ]
  },
  {
   "cell_type": "markdown",
   "metadata": {},
   "source": [
    "## Web scraping to pull in the gender to be used when improving our models"
   ]
  },
  {
   "cell_type": "code",
   "execution_count": 3,
   "metadata": {
    "scrolled": false
   },
   "outputs": [],
   "source": [
    "\n",
    "def extraFeatures(link):\n",
    "    import requests\n",
    "    from bs4 import BeautifulSoup\n",
    "    page = requests.get(link)\n",
    "    soup = BeautifulSoup(page.content)\n",
    "    \n",
    "#using if else statements we search the page for bold text of Gender \n",
    "    if soup.findAll(\"p\")[2].findAll(\"b\")[0].text == 'Gender:' :\n",
    "        para = soup.findAll(\"p\")[2]\n",
    "        lis = str(para).split(\"br/>\")\n",
    "    elif soup.findAll(\"p\")[1].findAll(\"b\")[0].text == 'Gender:' :\n",
    "        para = soup.findAll(\"p\")[1]\n",
    "        lis = str(para).split(\"<br/>\")\n",
    "    else:\n",
    "        lis = []\n",
    "\n",
    "    return lis\n",
    "\n",
    "features = data.biourl.apply(lambda url:extraFeatures(url))\n",
    "extrafeaturedataset = pd.concat((data.biourl, features.rename('Feature')), axis=1)\n",
    "\n",
    "\n",
    "#putting scrapped data into new csv file \n",
    "extrafeaturedataset.to_csv(\"extraDataset.csv\")"
   ]
  },
  {
   "cell_type": "markdown",
   "metadata": {},
   "source": [
    "## Reading in from our new CSV file"
   ]
  },
  {
   "cell_type": "code",
   "execution_count": 4,
   "metadata": {},
   "outputs": [
    {
     "data": {
      "text/html": [
       "<div>\n",
       "<style scoped>\n",
       "    .dataframe tbody tr th:only-of-type {\n",
       "        vertical-align: middle;\n",
       "    }\n",
       "\n",
       "    .dataframe tbody tr th {\n",
       "        vertical-align: top;\n",
       "    }\n",
       "\n",
       "    .dataframe thead th {\n",
       "        text-align: right;\n",
       "    }\n",
       "</style>\n",
       "<table border=\"1\" class=\"dataframe\">\n",
       "  <thead>\n",
       "    <tr style=\"text-align: right;\">\n",
       "      <th></th>\n",
       "      <th>Unnamed: 0</th>\n",
       "      <th>biourl</th>\n",
       "      <th>Feature</th>\n",
       "    </tr>\n",
       "  </thead>\n",
       "  <tbody>\n",
       "    <tr>\n",
       "      <th>0</th>\n",
       "      <td>0</td>\n",
       "      <td>http://www.nndb.com/people/320/000043191/</td>\n",
       "      <td>['&lt;p&gt;&lt;b&gt;Gender:&lt;/b&gt; Male&lt;', '&lt;b&gt;Race or Ethnic...</td>\n",
       "    </tr>\n",
       "    <tr>\n",
       "      <th>1</th>\n",
       "      <td>1</td>\n",
       "      <td>http://www.nndb.com/people/626/000042500/</td>\n",
       "      <td>['&lt;p&gt;&lt;b&gt;Gender:&lt;/b&gt; Male', '&lt;b&gt;Race or Ethnici...</td>\n",
       "    </tr>\n",
       "    <tr>\n",
       "      <th>2</th>\n",
       "      <td>2</td>\n",
       "      <td>http://www.nndb.com/people/320/000043191/</td>\n",
       "      <td>['&lt;p&gt;&lt;b&gt;Gender:&lt;/b&gt; Male&lt;', '&lt;b&gt;Race or Ethnic...</td>\n",
       "    </tr>\n",
       "  </tbody>\n",
       "</table>\n",
       "</div>"
      ],
      "text/plain": [
       "   Unnamed: 0                                     biourl  \\\n",
       "0           0  http://www.nndb.com/people/320/000043191/   \n",
       "1           1  http://www.nndb.com/people/626/000042500/   \n",
       "2           2  http://www.nndb.com/people/320/000043191/   \n",
       "\n",
       "                                             Feature  \n",
       "0  ['<p><b>Gender:</b> Male<', '<b>Race or Ethnic...  \n",
       "1  ['<p><b>Gender:</b> Male', '<b>Race or Ethnici...  \n",
       "2  ['<p><b>Gender:</b> Male<', '<b>Race or Ethnic...  "
      ]
     },
     "execution_count": 4,
     "metadata": {},
     "output_type": "execute_result"
    }
   ],
   "source": [
    "extrafeaturedataset =pd.read_csv(\"extraDataset.csv\")\n",
    "extrafeaturedataset.head(3)"
   ]
  },
  {
   "cell_type": "code",
   "execution_count": 5,
   "metadata": {},
   "outputs": [],
   "source": [
    "import ast"
   ]
  },
  {
   "cell_type": "code",
   "execution_count": 6,
   "metadata": {},
   "outputs": [],
   "source": [
    "extrafeaturedataset.Feature = extrafeaturedataset.Feature.apply(lambda txt: ast.literal_eval(txt))\n",
    "extrafeaturedataset['Gender'] = extrafeaturedataset.Feature.apply(lambda txt: txt[0].split(' ')[1].replace(\"'\",\"\"))\n"
   ]
  },
  {
   "cell_type": "code",
   "execution_count": 7,
   "metadata": {},
   "outputs": [
    {
     "data": {
      "text/html": [
       "<div>\n",
       "<style scoped>\n",
       "    .dataframe tbody tr th:only-of-type {\n",
       "        vertical-align: middle;\n",
       "    }\n",
       "\n",
       "    .dataframe tbody tr th {\n",
       "        vertical-align: top;\n",
       "    }\n",
       "\n",
       "    .dataframe thead th {\n",
       "        text-align: right;\n",
       "    }\n",
       "</style>\n",
       "<table border=\"1\" class=\"dataframe\">\n",
       "  <thead>\n",
       "    <tr style=\"text-align: right;\">\n",
       "      <th></th>\n",
       "      <th>Unnamed: 0</th>\n",
       "      <th>biourl</th>\n",
       "      <th>Feature</th>\n",
       "      <th>Gender</th>\n",
       "    </tr>\n",
       "  </thead>\n",
       "  <tbody>\n",
       "    <tr>\n",
       "      <th>0</th>\n",
       "      <td>0</td>\n",
       "      <td>http://www.nndb.com/people/320/000043191/</td>\n",
       "      <td>[&lt;p&gt;&lt;b&gt;Gender:&lt;/b&gt; Male&lt;, &lt;b&gt;Race or Ethnicity...</td>\n",
       "      <td>Male&lt;</td>\n",
       "    </tr>\n",
       "    <tr>\n",
       "      <th>1</th>\n",
       "      <td>1</td>\n",
       "      <td>http://www.nndb.com/people/626/000042500/</td>\n",
       "      <td>[&lt;p&gt;&lt;b&gt;Gender:&lt;/b&gt; Male, &lt;b&gt;Race or Ethnicity:...</td>\n",
       "      <td>Male</td>\n",
       "    </tr>\n",
       "    <tr>\n",
       "      <th>2</th>\n",
       "      <td>2</td>\n",
       "      <td>http://www.nndb.com/people/320/000043191/</td>\n",
       "      <td>[&lt;p&gt;&lt;b&gt;Gender:&lt;/b&gt; Male&lt;, &lt;b&gt;Race or Ethnicity...</td>\n",
       "      <td>Male&lt;</td>\n",
       "    </tr>\n",
       "  </tbody>\n",
       "</table>\n",
       "</div>"
      ],
      "text/plain": [
       "   Unnamed: 0                                     biourl  \\\n",
       "0           0  http://www.nndb.com/people/320/000043191/   \n",
       "1           1  http://www.nndb.com/people/626/000042500/   \n",
       "2           2  http://www.nndb.com/people/320/000043191/   \n",
       "\n",
       "                                             Feature Gender  \n",
       "0  [<p><b>Gender:</b> Male<, <b>Race or Ethnicity...  Male<  \n",
       "1  [<p><b>Gender:</b> Male, <b>Race or Ethnicity:...   Male  \n",
       "2  [<p><b>Gender:</b> Male<, <b>Race or Ethnicity...  Male<  "
      ]
     },
     "execution_count": 7,
     "metadata": {},
     "output_type": "execute_result"
    }
   ],
   "source": [
    "extrafeaturedataset.head(3)"
   ]
  },
  {
   "cell_type": "code",
   "execution_count": 8,
   "metadata": {},
   "outputs": [],
   "source": [
    "#we add gender to our datatset to be used for analysis\n",
    "dataset = pd.concat((dataset,extrafeaturedataset.Gender.rename('gender')),axis=1)\n"
   ]
  },
  {
   "cell_type": "code",
   "execution_count": 9,
   "metadata": {},
   "outputs": [
    {
     "data": {
      "text/html": [
       "<div>\n",
       "<style scoped>\n",
       "    .dataframe tbody tr th:only-of-type {\n",
       "        vertical-align: middle;\n",
       "    }\n",
       "\n",
       "    .dataframe tbody tr th {\n",
       "        vertical-align: top;\n",
       "    }\n",
       "\n",
       "    .dataframe thead th {\n",
       "        text-align: right;\n",
       "    }\n",
       "</style>\n",
       "<table border=\"1\" class=\"dataframe\">\n",
       "  <thead>\n",
       "    <tr style=\"text-align: right;\">\n",
       "      <th></th>\n",
       "      <th>birthplace</th>\n",
       "      <th>date_of_birth</th>\n",
       "      <th>race_ethnicity</th>\n",
       "      <th>year_of_award</th>\n",
       "      <th>award</th>\n",
       "      <th>gender</th>\n",
       "    </tr>\n",
       "  </thead>\n",
       "  <tbody>\n",
       "    <tr>\n",
       "      <th>0</th>\n",
       "      <td>Chisinau, Moldova</td>\n",
       "      <td>30-Sep-1895</td>\n",
       "      <td>White</td>\n",
       "      <td>1927</td>\n",
       "      <td>Best Director</td>\n",
       "      <td>Male&lt;</td>\n",
       "    </tr>\n",
       "    <tr>\n",
       "      <th>1</th>\n",
       "      <td>Glasgow, Scotland</td>\n",
       "      <td>2-Feb-1886</td>\n",
       "      <td>White</td>\n",
       "      <td>1930</td>\n",
       "      <td>Best Director</td>\n",
       "      <td>Male</td>\n",
       "    </tr>\n",
       "    <tr>\n",
       "      <th>2</th>\n",
       "      <td>Chisinau, Moldova</td>\n",
       "      <td>30-Sep-1895</td>\n",
       "      <td>White</td>\n",
       "      <td>1931</td>\n",
       "      <td>Best Director</td>\n",
       "      <td>Male&lt;</td>\n",
       "    </tr>\n",
       "  </tbody>\n",
       "</table>\n",
       "</div>"
      ],
      "text/plain": [
       "          birthplace date_of_birth race_ethnicity  year_of_award  \\\n",
       "0  Chisinau, Moldova   30-Sep-1895          White           1927   \n",
       "1  Glasgow, Scotland    2-Feb-1886          White           1930   \n",
       "2  Chisinau, Moldova   30-Sep-1895          White           1931   \n",
       "\n",
       "           award gender  \n",
       "0  Best Director  Male<  \n",
       "1  Best Director   Male  \n",
       "2  Best Director  Male<  "
      ]
     },
     "execution_count": 9,
     "metadata": {},
     "output_type": "execute_result"
    }
   ],
   "source": [
    "dataset.head(3)"
   ]
  },
  {
   "cell_type": "markdown",
   "metadata": {},
   "source": [
    "## Cleaning our gender column "
   ]
  },
  {
   "cell_type": "code",
   "execution_count": 10,
   "metadata": {},
   "outputs": [
    {
     "data": {
      "text/html": [
       "<div>\n",
       "<style scoped>\n",
       "    .dataframe tbody tr th:only-of-type {\n",
       "        vertical-align: middle;\n",
       "    }\n",
       "\n",
       "    .dataframe tbody tr th {\n",
       "        vertical-align: top;\n",
       "    }\n",
       "\n",
       "    .dataframe thead th {\n",
       "        text-align: right;\n",
       "    }\n",
       "</style>\n",
       "<table border=\"1\" class=\"dataframe\">\n",
       "  <thead>\n",
       "    <tr style=\"text-align: right;\">\n",
       "      <th></th>\n",
       "      <th>birthplace</th>\n",
       "      <th>date_of_birth</th>\n",
       "      <th>race_ethnicity</th>\n",
       "      <th>year_of_award</th>\n",
       "      <th>award</th>\n",
       "      <th>gender</th>\n",
       "    </tr>\n",
       "  </thead>\n",
       "  <tbody>\n",
       "    <tr>\n",
       "      <th>0</th>\n",
       "      <td>Chisinau, Moldova</td>\n",
       "      <td>30-Sep-1895</td>\n",
       "      <td>White</td>\n",
       "      <td>1927</td>\n",
       "      <td>Best Director</td>\n",
       "      <td>Male</td>\n",
       "    </tr>\n",
       "    <tr>\n",
       "      <th>1</th>\n",
       "      <td>Glasgow, Scotland</td>\n",
       "      <td>2-Feb-1886</td>\n",
       "      <td>White</td>\n",
       "      <td>1930</td>\n",
       "      <td>Best Director</td>\n",
       "      <td>Female</td>\n",
       "    </tr>\n",
       "    <tr>\n",
       "      <th>2</th>\n",
       "      <td>Chisinau, Moldova</td>\n",
       "      <td>30-Sep-1895</td>\n",
       "      <td>White</td>\n",
       "      <td>1931</td>\n",
       "      <td>Best Director</td>\n",
       "      <td>Male</td>\n",
       "    </tr>\n",
       "  </tbody>\n",
       "</table>\n",
       "</div>"
      ],
      "text/plain": [
       "          birthplace date_of_birth race_ethnicity  year_of_award  \\\n",
       "0  Chisinau, Moldova   30-Sep-1895          White           1927   \n",
       "1  Glasgow, Scotland    2-Feb-1886          White           1930   \n",
       "2  Chisinau, Moldova   30-Sep-1895          White           1931   \n",
       "\n",
       "           award  gender  \n",
       "0  Best Director    Male  \n",
       "1  Best Director  Female  \n",
       "2  Best Director    Male  "
      ]
     },
     "execution_count": 10,
     "metadata": {},
     "output_type": "execute_result"
    }
   ],
   "source": [
    "gender = dataset['gender']\n",
    "\n",
    "def genderCleaning(x):\n",
    "    if \"Male<\" in x :\n",
    "        return \"Male\"\n",
    "    else:\n",
    "        return \"Female\"\n",
    "\n",
    "\n",
    "dataset['gender'] = gender.apply(lambda txt:genderCleaning(txt))\n",
    "\n",
    "dataset.head(3)"
   ]
  },
  {
   "cell_type": "code",
   "execution_count": 11,
   "metadata": {},
   "outputs": [
    {
     "data": {
      "text/plain": [
       "<bound method Series.unique of 0      11\n",
       "1      10\n",
       "2      11\n",
       "3      11\n",
       "4      11\n",
       "       ..\n",
       "436     9\n",
       "437     9\n",
       "438     9\n",
       "439     9\n",
       "440     9\n",
       "Name: ldob, Length: 441, dtype: int64>"
      ]
     },
     "execution_count": 11,
     "metadata": {},
     "output_type": "execute_result"
    }
   ],
   "source": [
    "#here we get the length of date_of_birth and assign in to the new column ldob \n",
    "dataset['ldob'] = dataset.date_of_birth.apply(len) \n",
    "\n",
    "dataset['ldob'].unique"
   ]
  },
  {
   "cell_type": "code",
   "execution_count": 12,
   "metadata": {},
   "outputs": [],
   "source": [
    "dataset = dataset.drop([54, 84, 246, 249], axis=0) "
   ]
  },
  {
   "cell_type": "code",
   "execution_count": 13,
   "metadata": {},
   "outputs": [
    {
     "data": {
      "text/html": [
       "<div>\n",
       "<style scoped>\n",
       "    .dataframe tbody tr th:only-of-type {\n",
       "        vertical-align: middle;\n",
       "    }\n",
       "\n",
       "    .dataframe tbody tr th {\n",
       "        vertical-align: top;\n",
       "    }\n",
       "\n",
       "    .dataframe thead th {\n",
       "        text-align: right;\n",
       "    }\n",
       "</style>\n",
       "<table border=\"1\" class=\"dataframe\">\n",
       "  <thead>\n",
       "    <tr style=\"text-align: right;\">\n",
       "      <th></th>\n",
       "      <th>birthplace</th>\n",
       "      <th>date_of_birth</th>\n",
       "      <th>race_ethnicity</th>\n",
       "      <th>year_of_award</th>\n",
       "      <th>award</th>\n",
       "      <th>gender</th>\n",
       "      <th>ldob</th>\n",
       "    </tr>\n",
       "  </thead>\n",
       "  <tbody>\n",
       "    <tr>\n",
       "      <th>0</th>\n",
       "      <td>Chisinau, Moldova</td>\n",
       "      <td>30-Sep-1895</td>\n",
       "      <td>White</td>\n",
       "      <td>1927</td>\n",
       "      <td>Best Director</td>\n",
       "      <td>Male</td>\n",
       "      <td>11</td>\n",
       "    </tr>\n",
       "    <tr>\n",
       "      <th>1</th>\n",
       "      <td>Glasgow, Scotland</td>\n",
       "      <td>2-Feb-1886</td>\n",
       "      <td>White</td>\n",
       "      <td>1930</td>\n",
       "      <td>Best Director</td>\n",
       "      <td>Female</td>\n",
       "      <td>10</td>\n",
       "    </tr>\n",
       "    <tr>\n",
       "      <th>2</th>\n",
       "      <td>Chisinau, Moldova</td>\n",
       "      <td>30-Sep-1895</td>\n",
       "      <td>White</td>\n",
       "      <td>1931</td>\n",
       "      <td>Best Director</td>\n",
       "      <td>Male</td>\n",
       "      <td>11</td>\n",
       "    </tr>\n",
       "  </tbody>\n",
       "</table>\n",
       "</div>"
      ],
      "text/plain": [
       "          birthplace date_of_birth race_ethnicity  year_of_award  \\\n",
       "0  Chisinau, Moldova   30-Sep-1895          White           1927   \n",
       "1  Glasgow, Scotland    2-Feb-1886          White           1930   \n",
       "2  Chisinau, Moldova   30-Sep-1895          White           1931   \n",
       "\n",
       "           award  gender  ldob  \n",
       "0  Best Director    Male    11  \n",
       "1  Best Director  Female    10  \n",
       "2  Best Director    Male    11  "
      ]
     },
     "execution_count": 13,
     "metadata": {},
     "output_type": "execute_result"
    }
   ],
   "source": [
    "dataset.head(3)"
   ]
  },
  {
   "cell_type": "code",
   "execution_count": 14,
   "metadata": {},
   "outputs": [],
   "source": [
    "# Clean date of birth  and update to the format \"Day-Month-Year\" \n",
    "for index, row in dataset.iterrows():\n",
    "    \n",
    "    date_of_birth = row['date_of_birth'].split('-')\n",
    "    \n",
    "    day_of_birth = date_of_birth[0]\n",
    "    \n",
    "    month_of_birth = date_of_birth[1]\n",
    "    \n",
    "    year_of_birth = date_of_birth[2]\n",
    "    \n",
    "    if len(day_of_birth) == 1:\n",
    "        day_of_birth = \"0\" + day_of_birth\n",
    "    else: \n",
    "        day_of_birth\n",
    "        \n",
    "    if len(year_of_birth) == 2:\n",
    "        year_of_birth = \"19\" + year_of_birth\n",
    "    else: \n",
    "        year_of_birth\n",
    "    dataset.loc[index,'date_of_birth'] = day_of_birth + \"-\" + month_of_birth + \"-\" + year_of_birth #reset year of birth "
   ]
  },
  {
   "cell_type": "code",
   "execution_count": 15,
   "metadata": {},
   "outputs": [
    {
     "data": {
      "text/html": [
       "<div>\n",
       "<style scoped>\n",
       "    .dataframe tbody tr th:only-of-type {\n",
       "        vertical-align: middle;\n",
       "    }\n",
       "\n",
       "    .dataframe tbody tr th {\n",
       "        vertical-align: top;\n",
       "    }\n",
       "\n",
       "    .dataframe thead th {\n",
       "        text-align: right;\n",
       "    }\n",
       "</style>\n",
       "<table border=\"1\" class=\"dataframe\">\n",
       "  <thead>\n",
       "    <tr style=\"text-align: right;\">\n",
       "      <th></th>\n",
       "      <th>birthplace</th>\n",
       "      <th>date_of_birth</th>\n",
       "      <th>race_ethnicity</th>\n",
       "      <th>year_of_award</th>\n",
       "      <th>award</th>\n",
       "      <th>gender</th>\n",
       "      <th>ldob</th>\n",
       "    </tr>\n",
       "  </thead>\n",
       "  <tbody>\n",
       "    <tr>\n",
       "      <th>0</th>\n",
       "      <td>Chisinau, Moldova</td>\n",
       "      <td>30-Sep-1895</td>\n",
       "      <td>White</td>\n",
       "      <td>1927</td>\n",
       "      <td>Best Director</td>\n",
       "      <td>Male</td>\n",
       "      <td>11</td>\n",
       "    </tr>\n",
       "    <tr>\n",
       "      <th>1</th>\n",
       "      <td>Glasgow, Scotland</td>\n",
       "      <td>02-Feb-1886</td>\n",
       "      <td>White</td>\n",
       "      <td>1930</td>\n",
       "      <td>Best Director</td>\n",
       "      <td>Female</td>\n",
       "      <td>10</td>\n",
       "    </tr>\n",
       "    <tr>\n",
       "      <th>2</th>\n",
       "      <td>Chisinau, Moldova</td>\n",
       "      <td>30-Sep-1895</td>\n",
       "      <td>White</td>\n",
       "      <td>1931</td>\n",
       "      <td>Best Director</td>\n",
       "      <td>Male</td>\n",
       "      <td>11</td>\n",
       "    </tr>\n",
       "  </tbody>\n",
       "</table>\n",
       "</div>"
      ],
      "text/plain": [
       "          birthplace date_of_birth race_ethnicity  year_of_award  \\\n",
       "0  Chisinau, Moldova   30-Sep-1895          White           1927   \n",
       "1  Glasgow, Scotland   02-Feb-1886          White           1930   \n",
       "2  Chisinau, Moldova   30-Sep-1895          White           1931   \n",
       "\n",
       "           award  gender  ldob  \n",
       "0  Best Director    Male    11  \n",
       "1  Best Director  Female    10  \n",
       "2  Best Director    Male    11  "
      ]
     },
     "execution_count": 15,
     "metadata": {},
     "output_type": "execute_result"
    }
   ],
   "source": [
    "dataset.head(3)"
   ]
  },
  {
   "cell_type": "code",
   "execution_count": 16,
   "metadata": {},
   "outputs": [],
   "source": [
    "# Cleaning birthplace by replacing values ending with two characters as USA and update accordingly.\n",
    "# Create a new column to record country information\n",
    "\n",
    "for index, row in dataset.iterrows():\n",
    "    state = row[\"birthplace\"].rsplit(',', 1)[0]\n",
    "    country = row[\"birthplace\"].split(',')[-1].strip()\n",
    "    \n",
    "    if len(country) == 2 or country == 'New York City': \n",
    "        country = \"USA\"\n",
    "    else:\n",
    "        country = country  \n",
    "        \n",
    "    dataset.loc[index,'country'] = country\n",
    "    dataset.loc[index, 'birthplace'] = state + \", \" + country "
   ]
  },
  {
   "cell_type": "code",
   "execution_count": 17,
   "metadata": {},
   "outputs": [],
   "source": [
    "#Get award age\n",
    "dataset['award_age'] = dataset.apply(lambda row:np.subtract(row['year_of_award'],int(row['date_of_birth'].split('-')[2])), axis=1)"
   ]
  },
  {
   "cell_type": "code",
   "execution_count": 18,
   "metadata": {},
   "outputs": [
    {
     "data": {
      "text/html": [
       "<div>\n",
       "<style scoped>\n",
       "    .dataframe tbody tr th:only-of-type {\n",
       "        vertical-align: middle;\n",
       "    }\n",
       "\n",
       "    .dataframe tbody tr th {\n",
       "        vertical-align: top;\n",
       "    }\n",
       "\n",
       "    .dataframe thead th {\n",
       "        text-align: right;\n",
       "    }\n",
       "</style>\n",
       "<table border=\"1\" class=\"dataframe\">\n",
       "  <thead>\n",
       "    <tr style=\"text-align: right;\">\n",
       "      <th></th>\n",
       "      <th>birthplace</th>\n",
       "      <th>date_of_birth</th>\n",
       "      <th>race_ethnicity</th>\n",
       "      <th>year_of_award</th>\n",
       "      <th>award</th>\n",
       "      <th>gender</th>\n",
       "      <th>ldob</th>\n",
       "      <th>country</th>\n",
       "      <th>award_age</th>\n",
       "    </tr>\n",
       "  </thead>\n",
       "  <tbody>\n",
       "    <tr>\n",
       "      <th>0</th>\n",
       "      <td>Chisinau, Moldova</td>\n",
       "      <td>30-Sep-1895</td>\n",
       "      <td>White</td>\n",
       "      <td>1927</td>\n",
       "      <td>Best Director</td>\n",
       "      <td>Male</td>\n",
       "      <td>11</td>\n",
       "      <td>Moldova</td>\n",
       "      <td>32</td>\n",
       "    </tr>\n",
       "    <tr>\n",
       "      <th>1</th>\n",
       "      <td>Glasgow, Scotland</td>\n",
       "      <td>02-Feb-1886</td>\n",
       "      <td>White</td>\n",
       "      <td>1930</td>\n",
       "      <td>Best Director</td>\n",
       "      <td>Female</td>\n",
       "      <td>10</td>\n",
       "      <td>Scotland</td>\n",
       "      <td>44</td>\n",
       "    </tr>\n",
       "    <tr>\n",
       "      <th>2</th>\n",
       "      <td>Chisinau, Moldova</td>\n",
       "      <td>30-Sep-1895</td>\n",
       "      <td>White</td>\n",
       "      <td>1931</td>\n",
       "      <td>Best Director</td>\n",
       "      <td>Male</td>\n",
       "      <td>11</td>\n",
       "      <td>Moldova</td>\n",
       "      <td>36</td>\n",
       "    </tr>\n",
       "  </tbody>\n",
       "</table>\n",
       "</div>"
      ],
      "text/plain": [
       "          birthplace date_of_birth race_ethnicity  year_of_award  \\\n",
       "0  Chisinau, Moldova   30-Sep-1895          White           1927   \n",
       "1  Glasgow, Scotland   02-Feb-1886          White           1930   \n",
       "2  Chisinau, Moldova   30-Sep-1895          White           1931   \n",
       "\n",
       "           award  gender  ldob   country  award_age  \n",
       "0  Best Director    Male    11   Moldova         32  \n",
       "1  Best Director  Female    10  Scotland         44  \n",
       "2  Best Director    Male    11   Moldova         36  "
      ]
     },
     "execution_count": 18,
     "metadata": {},
     "output_type": "execute_result"
    }
   ],
   "source": [
    "dataset.head(3)"
   ]
  },
  {
   "cell_type": "code",
   "execution_count": 19,
   "metadata": {},
   "outputs": [],
   "source": [
    "#adding extra data to be used to improve our model\n",
    "dataset['sexual_orientation']=dataset_2['sexual_orientation']\n",
    "dataset['movie']=dataset_2['movie']  \n",
    "dataset['religion']=dataset_2['religion'] \n",
    "dataset['person']=dataset_2['person']"
   ]
  },
  {
   "cell_type": "code",
   "execution_count": 20,
   "metadata": {},
   "outputs": [
    {
     "data": {
      "text/html": [
       "<div>\n",
       "<style scoped>\n",
       "    .dataframe tbody tr th:only-of-type {\n",
       "        vertical-align: middle;\n",
       "    }\n",
       "\n",
       "    .dataframe tbody tr th {\n",
       "        vertical-align: top;\n",
       "    }\n",
       "\n",
       "    .dataframe thead th {\n",
       "        text-align: right;\n",
       "    }\n",
       "</style>\n",
       "<table border=\"1\" class=\"dataframe\">\n",
       "  <thead>\n",
       "    <tr style=\"text-align: right;\">\n",
       "      <th></th>\n",
       "      <th>birthplace</th>\n",
       "      <th>date_of_birth</th>\n",
       "      <th>race_ethnicity</th>\n",
       "      <th>year_of_award</th>\n",
       "      <th>award</th>\n",
       "      <th>gender</th>\n",
       "      <th>ldob</th>\n",
       "      <th>country</th>\n",
       "      <th>award_age</th>\n",
       "      <th>sexual_orientation</th>\n",
       "      <th>movie</th>\n",
       "      <th>religion</th>\n",
       "      <th>person</th>\n",
       "    </tr>\n",
       "  </thead>\n",
       "  <tbody>\n",
       "    <tr>\n",
       "      <th>0</th>\n",
       "      <td>Chisinau, Moldova</td>\n",
       "      <td>30-Sep-1895</td>\n",
       "      <td>White</td>\n",
       "      <td>1927</td>\n",
       "      <td>Best Director</td>\n",
       "      <td>Male</td>\n",
       "      <td>11</td>\n",
       "      <td>Moldova</td>\n",
       "      <td>32</td>\n",
       "      <td>Straight</td>\n",
       "      <td>Two Arabian Knights</td>\n",
       "      <td>Na</td>\n",
       "      <td>Lewis Milestone</td>\n",
       "    </tr>\n",
       "    <tr>\n",
       "      <th>1</th>\n",
       "      <td>Glasgow, Scotland</td>\n",
       "      <td>02-Feb-1886</td>\n",
       "      <td>White</td>\n",
       "      <td>1930</td>\n",
       "      <td>Best Director</td>\n",
       "      <td>Female</td>\n",
       "      <td>10</td>\n",
       "      <td>Scotland</td>\n",
       "      <td>44</td>\n",
       "      <td>Straight</td>\n",
       "      <td>The Divine Lady</td>\n",
       "      <td>Na</td>\n",
       "      <td>Frank Lloyd</td>\n",
       "    </tr>\n",
       "    <tr>\n",
       "      <th>2</th>\n",
       "      <td>Chisinau, Moldova</td>\n",
       "      <td>30-Sep-1895</td>\n",
       "      <td>White</td>\n",
       "      <td>1931</td>\n",
       "      <td>Best Director</td>\n",
       "      <td>Male</td>\n",
       "      <td>11</td>\n",
       "      <td>Moldova</td>\n",
       "      <td>36</td>\n",
       "      <td>Straight</td>\n",
       "      <td>All Quiet on the Western Front</td>\n",
       "      <td>Na</td>\n",
       "      <td>Lewis Milestone</td>\n",
       "    </tr>\n",
       "    <tr>\n",
       "      <th>3</th>\n",
       "      <td>Chicago, USA</td>\n",
       "      <td>23-Feb-1899</td>\n",
       "      <td>White</td>\n",
       "      <td>1932</td>\n",
       "      <td>Best Director</td>\n",
       "      <td>Female</td>\n",
       "      <td>11</td>\n",
       "      <td>USA</td>\n",
       "      <td>33</td>\n",
       "      <td>Straight</td>\n",
       "      <td>Skippy</td>\n",
       "      <td>Na</td>\n",
       "      <td>Norman Taurog</td>\n",
       "    </tr>\n",
       "    <tr>\n",
       "      <th>4</th>\n",
       "      <td>Salt Lake City, USA</td>\n",
       "      <td>23-Apr-1894</td>\n",
       "      <td>White</td>\n",
       "      <td>1933</td>\n",
       "      <td>Best Director</td>\n",
       "      <td>Female</td>\n",
       "      <td>11</td>\n",
       "      <td>USA</td>\n",
       "      <td>39</td>\n",
       "      <td>Straight</td>\n",
       "      <td>Bad Girl</td>\n",
       "      <td>Roman Catholic</td>\n",
       "      <td>Frank Borzage</td>\n",
       "    </tr>\n",
       "    <tr>\n",
       "      <th>...</th>\n",
       "      <td>...</td>\n",
       "      <td>...</td>\n",
       "      <td>...</td>\n",
       "      <td>...</td>\n",
       "      <td>...</td>\n",
       "      <td>...</td>\n",
       "      <td>...</td>\n",
       "      <td>...</td>\n",
       "      <td>...</td>\n",
       "      <td>...</td>\n",
       "      <td>...</td>\n",
       "      <td>...</td>\n",
       "      <td>...</td>\n",
       "    </tr>\n",
       "    <tr>\n",
       "      <th>436</th>\n",
       "      <td>London, England</td>\n",
       "      <td>07-Mar-1971</td>\n",
       "      <td>White</td>\n",
       "      <td>2006</td>\n",
       "      <td>Best Supporting Actress</td>\n",
       "      <td>Female</td>\n",
       "      <td>9</td>\n",
       "      <td>England</td>\n",
       "      <td>35</td>\n",
       "      <td>Straight</td>\n",
       "      <td>The Constant Gardener</td>\n",
       "      <td>Jewish</td>\n",
       "      <td>Rachel Weisz</td>\n",
       "    </tr>\n",
       "    <tr>\n",
       "      <th>437</th>\n",
       "      <td>Manchester, England</td>\n",
       "      <td>20-Oct-1956</td>\n",
       "      <td>White</td>\n",
       "      <td>2009</td>\n",
       "      <td>Best Director</td>\n",
       "      <td>Male</td>\n",
       "      <td>9</td>\n",
       "      <td>England</td>\n",
       "      <td>53</td>\n",
       "      <td>Straight</td>\n",
       "      <td>Slumdog Millionaire</td>\n",
       "      <td>Roman Catholic</td>\n",
       "      <td>Danny Boyle</td>\n",
       "    </tr>\n",
       "    <tr>\n",
       "      <th>438</th>\n",
       "      <td>Chicago, USA</td>\n",
       "      <td>26-Jul-1922</td>\n",
       "      <td>White</td>\n",
       "      <td>1977</td>\n",
       "      <td>Best Supporting Actor</td>\n",
       "      <td>Male</td>\n",
       "      <td>9</td>\n",
       "      <td>USA</td>\n",
       "      <td>55</td>\n",
       "      <td>Straight</td>\n",
       "      <td>All the President's Men</td>\n",
       "      <td>Na</td>\n",
       "      <td>Jason Robards</td>\n",
       "    </tr>\n",
       "    <tr>\n",
       "      <th>439</th>\n",
       "      <td>Laurel, USA</td>\n",
       "      <td>31-Aug-1928</td>\n",
       "      <td>White</td>\n",
       "      <td>1999</td>\n",
       "      <td>Best Supporting Actor</td>\n",
       "      <td>Male</td>\n",
       "      <td>9</td>\n",
       "      <td>USA</td>\n",
       "      <td>71</td>\n",
       "      <td>Straight</td>\n",
       "      <td>Affliction</td>\n",
       "      <td>Na</td>\n",
       "      <td>James Coburn</td>\n",
       "    </tr>\n",
       "    <tr>\n",
       "      <th>440</th>\n",
       "      <td>Nevada, USA</td>\n",
       "      <td>05-Aug-1906</td>\n",
       "      <td>White</td>\n",
       "      <td>1949</td>\n",
       "      <td>Best Director</td>\n",
       "      <td>Male</td>\n",
       "      <td>9</td>\n",
       "      <td>USA</td>\n",
       "      <td>43</td>\n",
       "      <td>Straight</td>\n",
       "      <td>The Treasure of the Sierra Madre</td>\n",
       "      <td>Na</td>\n",
       "      <td>John Huston</td>\n",
       "    </tr>\n",
       "  </tbody>\n",
       "</table>\n",
       "<p>437 rows × 13 columns</p>\n",
       "</div>"
      ],
      "text/plain": [
       "              birthplace date_of_birth race_ethnicity  year_of_award  \\\n",
       "0      Chisinau, Moldova   30-Sep-1895          White           1927   \n",
       "1      Glasgow, Scotland   02-Feb-1886          White           1930   \n",
       "2      Chisinau, Moldova   30-Sep-1895          White           1931   \n",
       "3           Chicago, USA   23-Feb-1899          White           1932   \n",
       "4    Salt Lake City, USA   23-Apr-1894          White           1933   \n",
       "..                   ...           ...            ...            ...   \n",
       "436      London, England   07-Mar-1971          White           2006   \n",
       "437  Manchester, England   20-Oct-1956          White           2009   \n",
       "438         Chicago, USA   26-Jul-1922          White           1977   \n",
       "439          Laurel, USA   31-Aug-1928          White           1999   \n",
       "440          Nevada, USA   05-Aug-1906          White           1949   \n",
       "\n",
       "                       award  gender  ldob   country  award_age  \\\n",
       "0              Best Director    Male    11   Moldova         32   \n",
       "1              Best Director  Female    10  Scotland         44   \n",
       "2              Best Director    Male    11   Moldova         36   \n",
       "3              Best Director  Female    11       USA         33   \n",
       "4              Best Director  Female    11       USA         39   \n",
       "..                       ...     ...   ...       ...        ...   \n",
       "436  Best Supporting Actress  Female     9   England         35   \n",
       "437            Best Director    Male     9   England         53   \n",
       "438    Best Supporting Actor    Male     9       USA         55   \n",
       "439    Best Supporting Actor    Male     9       USA         71   \n",
       "440            Best Director    Male     9       USA         43   \n",
       "\n",
       "    sexual_orientation                             movie        religion  \\\n",
       "0             Straight               Two Arabian Knights              Na   \n",
       "1             Straight                   The Divine Lady              Na   \n",
       "2             Straight    All Quiet on the Western Front              Na   \n",
       "3             Straight                            Skippy              Na   \n",
       "4             Straight                          Bad Girl  Roman Catholic   \n",
       "..                 ...                               ...             ...   \n",
       "436           Straight             The Constant Gardener          Jewish   \n",
       "437           Straight               Slumdog Millionaire  Roman Catholic   \n",
       "438           Straight           All the President's Men              Na   \n",
       "439           Straight                        Affliction              Na   \n",
       "440           Straight  The Treasure of the Sierra Madre              Na   \n",
       "\n",
       "              person  \n",
       "0    Lewis Milestone  \n",
       "1        Frank Lloyd  \n",
       "2    Lewis Milestone  \n",
       "3      Norman Taurog  \n",
       "4      Frank Borzage  \n",
       "..               ...  \n",
       "436     Rachel Weisz  \n",
       "437      Danny Boyle  \n",
       "438    Jason Robards  \n",
       "439     James Coburn  \n",
       "440      John Huston  \n",
       "\n",
       "[437 rows x 13 columns]"
      ]
     },
     "execution_count": 20,
     "metadata": {},
     "output_type": "execute_result"
    }
   ],
   "source": [
    "#replace missing data \n",
    "dataset.fillna(method=\"ffill\")"
   ]
  },
  {
   "cell_type": "code",
   "execution_count": 21,
   "metadata": {},
   "outputs": [
    {
     "data": {
      "text/html": [
       "<div>\n",
       "<style scoped>\n",
       "    .dataframe tbody tr th:only-of-type {\n",
       "        vertical-align: middle;\n",
       "    }\n",
       "\n",
       "    .dataframe tbody tr th {\n",
       "        vertical-align: top;\n",
       "    }\n",
       "\n",
       "    .dataframe thead th {\n",
       "        text-align: right;\n",
       "    }\n",
       "</style>\n",
       "<table border=\"1\" class=\"dataframe\">\n",
       "  <thead>\n",
       "    <tr style=\"text-align: right;\">\n",
       "      <th></th>\n",
       "      <th>birthplace</th>\n",
       "      <th>date_of_birth</th>\n",
       "      <th>race_ethnicity</th>\n",
       "      <th>year_of_award</th>\n",
       "      <th>award</th>\n",
       "      <th>gender</th>\n",
       "      <th>ldob</th>\n",
       "      <th>country</th>\n",
       "      <th>award_age</th>\n",
       "      <th>sexual_orientation</th>\n",
       "      <th>movie</th>\n",
       "      <th>religion</th>\n",
       "      <th>person</th>\n",
       "    </tr>\n",
       "  </thead>\n",
       "  <tbody>\n",
       "    <tr>\n",
       "      <th>0</th>\n",
       "      <td>Chisinau, Moldova</td>\n",
       "      <td>30-Sep-1895</td>\n",
       "      <td>White</td>\n",
       "      <td>1927</td>\n",
       "      <td>Best Director</td>\n",
       "      <td>Male</td>\n",
       "      <td>11</td>\n",
       "      <td>Moldova</td>\n",
       "      <td>32</td>\n",
       "      <td>Straight</td>\n",
       "      <td>Two Arabian Knights</td>\n",
       "      <td>Na</td>\n",
       "      <td>Lewis Milestone</td>\n",
       "    </tr>\n",
       "    <tr>\n",
       "      <th>1</th>\n",
       "      <td>Glasgow, Scotland</td>\n",
       "      <td>02-Feb-1886</td>\n",
       "      <td>White</td>\n",
       "      <td>1930</td>\n",
       "      <td>Best Director</td>\n",
       "      <td>Female</td>\n",
       "      <td>10</td>\n",
       "      <td>Scotland</td>\n",
       "      <td>44</td>\n",
       "      <td>Straight</td>\n",
       "      <td>The Divine Lady</td>\n",
       "      <td>Na</td>\n",
       "      <td>Frank Lloyd</td>\n",
       "    </tr>\n",
       "    <tr>\n",
       "      <th>2</th>\n",
       "      <td>Chisinau, Moldova</td>\n",
       "      <td>30-Sep-1895</td>\n",
       "      <td>White</td>\n",
       "      <td>1931</td>\n",
       "      <td>Best Director</td>\n",
       "      <td>Male</td>\n",
       "      <td>11</td>\n",
       "      <td>Moldova</td>\n",
       "      <td>36</td>\n",
       "      <td>Straight</td>\n",
       "      <td>All Quiet on the Western Front</td>\n",
       "      <td>Na</td>\n",
       "      <td>Lewis Milestone</td>\n",
       "    </tr>\n",
       "    <tr>\n",
       "      <th>3</th>\n",
       "      <td>Chicago, USA</td>\n",
       "      <td>23-Feb-1899</td>\n",
       "      <td>White</td>\n",
       "      <td>1932</td>\n",
       "      <td>Best Director</td>\n",
       "      <td>Female</td>\n",
       "      <td>11</td>\n",
       "      <td>USA</td>\n",
       "      <td>33</td>\n",
       "      <td>Straight</td>\n",
       "      <td>Skippy</td>\n",
       "      <td>Na</td>\n",
       "      <td>Norman Taurog</td>\n",
       "    </tr>\n",
       "    <tr>\n",
       "      <th>4</th>\n",
       "      <td>Salt Lake City, USA</td>\n",
       "      <td>23-Apr-1894</td>\n",
       "      <td>White</td>\n",
       "      <td>1933</td>\n",
       "      <td>Best Director</td>\n",
       "      <td>Female</td>\n",
       "      <td>11</td>\n",
       "      <td>USA</td>\n",
       "      <td>39</td>\n",
       "      <td>Straight</td>\n",
       "      <td>Bad Girl</td>\n",
       "      <td>Roman Catholic</td>\n",
       "      <td>Frank Borzage</td>\n",
       "    </tr>\n",
       "    <tr>\n",
       "      <th>...</th>\n",
       "      <td>...</td>\n",
       "      <td>...</td>\n",
       "      <td>...</td>\n",
       "      <td>...</td>\n",
       "      <td>...</td>\n",
       "      <td>...</td>\n",
       "      <td>...</td>\n",
       "      <td>...</td>\n",
       "      <td>...</td>\n",
       "      <td>...</td>\n",
       "      <td>...</td>\n",
       "      <td>...</td>\n",
       "      <td>...</td>\n",
       "    </tr>\n",
       "    <tr>\n",
       "      <th>411</th>\n",
       "      <td>Woodlawn, USA</td>\n",
       "      <td>11-Dec-1967</td>\n",
       "      <td>Black</td>\n",
       "      <td>2010</td>\n",
       "      <td>Best Supporting Actress</td>\n",
       "      <td>Female</td>\n",
       "      <td>9</td>\n",
       "      <td>USA</td>\n",
       "      <td>43</td>\n",
       "      <td>Straight</td>\n",
       "      <td>Precious</td>\n",
       "      <td>Na</td>\n",
       "      <td>Mo'Nique</td>\n",
       "    </tr>\n",
       "    <tr>\n",
       "      <th>412</th>\n",
       "      <td>New York City, USA</td>\n",
       "      <td>14-Sep-1960</td>\n",
       "      <td>White</td>\n",
       "      <td>2011</td>\n",
       "      <td>Best Supporting Actress</td>\n",
       "      <td>Female</td>\n",
       "      <td>9</td>\n",
       "      <td>USA</td>\n",
       "      <td>51</td>\n",
       "      <td>Straight</td>\n",
       "      <td>The Fighter</td>\n",
       "      <td>Na</td>\n",
       "      <td>Melissa Leo</td>\n",
       "    </tr>\n",
       "    <tr>\n",
       "      <th>413</th>\n",
       "      <td>Montgomery, USA</td>\n",
       "      <td>25-May-1972</td>\n",
       "      <td>Black</td>\n",
       "      <td>2012</td>\n",
       "      <td>Best Supporting Actress</td>\n",
       "      <td>Female</td>\n",
       "      <td>9</td>\n",
       "      <td>USA</td>\n",
       "      <td>40</td>\n",
       "      <td>Na</td>\n",
       "      <td>The Help</td>\n",
       "      <td>Na</td>\n",
       "      <td>Octavia Spencer</td>\n",
       "    </tr>\n",
       "    <tr>\n",
       "      <th>414</th>\n",
       "      <td>Brooklyn, USA</td>\n",
       "      <td>12-Nov-1982</td>\n",
       "      <td>White</td>\n",
       "      <td>2013</td>\n",
       "      <td>Best Supporting Actress</td>\n",
       "      <td>Female</td>\n",
       "      <td>9</td>\n",
       "      <td>USA</td>\n",
       "      <td>31</td>\n",
       "      <td>Straight</td>\n",
       "      <td>Les Misí©rables</td>\n",
       "      <td>Christian</td>\n",
       "      <td>Anne Hathaway</td>\n",
       "    </tr>\n",
       "    <tr>\n",
       "      <th>415</th>\n",
       "      <td>Mexico City, Mexico</td>\n",
       "      <td>01-Mar-1983</td>\n",
       "      <td>Black</td>\n",
       "      <td>2014</td>\n",
       "      <td>Best Supporting Actress</td>\n",
       "      <td>Female</td>\n",
       "      <td>9</td>\n",
       "      <td>Mexico</td>\n",
       "      <td>31</td>\n",
       "      <td>Na</td>\n",
       "      <td>12 Years a Slave</td>\n",
       "      <td>Na</td>\n",
       "      <td>Lupita Nyong'o</td>\n",
       "    </tr>\n",
       "  </tbody>\n",
       "</table>\n",
       "<p>412 rows × 13 columns</p>\n",
       "</div>"
      ],
      "text/plain": [
       "              birthplace date_of_birth race_ethnicity  year_of_award  \\\n",
       "0      Chisinau, Moldova   30-Sep-1895          White           1927   \n",
       "1      Glasgow, Scotland   02-Feb-1886          White           1930   \n",
       "2      Chisinau, Moldova   30-Sep-1895          White           1931   \n",
       "3           Chicago, USA   23-Feb-1899          White           1932   \n",
       "4    Salt Lake City, USA   23-Apr-1894          White           1933   \n",
       "..                   ...           ...            ...            ...   \n",
       "411        Woodlawn, USA   11-Dec-1967          Black           2010   \n",
       "412   New York City, USA   14-Sep-1960          White           2011   \n",
       "413      Montgomery, USA   25-May-1972          Black           2012   \n",
       "414        Brooklyn, USA   12-Nov-1982          White           2013   \n",
       "415  Mexico City, Mexico   01-Mar-1983          Black           2014   \n",
       "\n",
       "                       award  gender  ldob   country  award_age  \\\n",
       "0              Best Director    Male    11   Moldova         32   \n",
       "1              Best Director  Female    10  Scotland         44   \n",
       "2              Best Director    Male    11   Moldova         36   \n",
       "3              Best Director  Female    11       USA         33   \n",
       "4              Best Director  Female    11       USA         39   \n",
       "..                       ...     ...   ...       ...        ...   \n",
       "411  Best Supporting Actress  Female     9       USA         43   \n",
       "412  Best Supporting Actress  Female     9       USA         51   \n",
       "413  Best Supporting Actress  Female     9       USA         40   \n",
       "414  Best Supporting Actress  Female     9       USA         31   \n",
       "415  Best Supporting Actress  Female     9    Mexico         31   \n",
       "\n",
       "    sexual_orientation                           movie        religion  \\\n",
       "0             Straight             Two Arabian Knights              Na   \n",
       "1             Straight                 The Divine Lady              Na   \n",
       "2             Straight  All Quiet on the Western Front              Na   \n",
       "3             Straight                          Skippy              Na   \n",
       "4             Straight                        Bad Girl  Roman Catholic   \n",
       "..                 ...                             ...             ...   \n",
       "411           Straight                        Precious              Na   \n",
       "412           Straight                     The Fighter              Na   \n",
       "413                 Na                        The Help              Na   \n",
       "414           Straight                 Les Misí©rables       Christian   \n",
       "415                 Na                12 Years a Slave              Na   \n",
       "\n",
       "              person  \n",
       "0    Lewis Milestone  \n",
       "1        Frank Lloyd  \n",
       "2    Lewis Milestone  \n",
       "3      Norman Taurog  \n",
       "4      Frank Borzage  \n",
       "..               ...  \n",
       "411         Mo'Nique  \n",
       "412      Melissa Leo  \n",
       "413  Octavia Spencer  \n",
       "414    Anne Hathaway  \n",
       "415   Lupita Nyong'o  \n",
       "\n",
       "[412 rows x 13 columns]"
      ]
     },
     "execution_count": 21,
     "metadata": {},
     "output_type": "execute_result"
    }
   ],
   "source": [
    "#here we remove the duplicates in our dataset \n",
    "dataset.drop_duplicates()"
   ]
  },
  {
   "cell_type": "markdown",
   "metadata": {},
   "source": [
    "# 2. Data exploration:\n",
    "Carry out a data exploration using appropriate plots to identify patterns or trends in the data. Note that we have few numerical variables in the current subset of data we are working on. Nonetheless, we need to assess the impact of the predictors (age, race, and country of origin) on the outcome (award). Use graphs to prove or disprove the following hypotheses:\n",
    "\n",
    "Most Oscar winners are from USA.\n",
    "Most Oscar winners are white.\n",
    "Best Directors tend to be older than best Actors or Actresses.\n",
    "Hint: Check for distinct values in categorical data and their frequencies. If there are too many distinct values (levels), then you may want to reduce the number of levels by grouping some of the detailed levels. This could be the case for the country of origin in this dataset."
   ]
  },
  {
   "cell_type": "code",
   "execution_count": 22,
   "metadata": {},
   "outputs": [
    {
     "data": {
      "image/png": "[encoded data removed]",
      "text/plain": [
       "<Figure size 432x288 with 1 Axes>"
      ]
     },
     "metadata": {
      "needs_background": "light"
     },
     "output_type": "display_data"
    }
   ],
   "source": [
    "#Most Oscar winners are white. \n",
    "def plotdata(data, col, title): \n",
    "    #group data \n",
    "    grouped_data = data[col].value_counts() \n",
    "    #plot graph \n",
    "    grouped_data.plot(kind='bar', fontsize=12,color='b') \n",
    "    #name the x axis and let the fontsize equals to 16px \n",
    "    plt.xlabel( col.upper(), fontsize=16) \n",
    "    #name the y axis and let the fontsize equals to 16px \n",
    "    plt.ylabel('Number of People'.upper(),fontsize=16) \n",
    "    #give the title a name and give it a font-size of 24px \n",
    "    plt.title(title.upper(), fontsize=24) \n",
    "    plt.show() \n",
    "plotdata(dataset,'race_ethnicity', 'distribution by race') "
   ]
  },
  {
   "cell_type": "code",
   "execution_count": 23,
   "metadata": {},
   "outputs": [
    {
     "data": {
      "text/plain": [
       "Text(0.5, 1.0, 'DISTRIBUTION BY COUNTRY')"
      ]
     },
     "execution_count": 23,
     "metadata": {},
     "output_type": "execute_result"
    },
    {
     "data": {
      "image/png": "[encoded data removed]",
      "text/plain": [
       "<Figure size 432x288 with 1 Axes>"
      ]
     },
     "metadata": {
      "needs_background": "light"
     },
     "output_type": "display_data"
    }
   ],
   "source": [
    "#Most Oscar winners are from USA \n",
    "n = 4 \n",
    "#group country data and rename the columns \n",
    "grouped_data = dataset['country'].value_counts().rename_axis('country').reset_index(name='quantity') \n",
    "#if country data is less than n, change column name to 'others'  \n",
    "grouped_data.loc[grouped_data.quantity <= n , 'country'] = 'Others' \n",
    "# regroup country data \n",
    "new_grouped_data = grouped_data.groupby('country').sum() \n",
    "#plot graph of new grouped data and give the bars a color of blue \n",
    "new_grouped_data.plot(kind='bar', fontsize=12,color='b') \n",
    "#name the x axis and let the fontsize equals to 16px \n",
    "plt.xlabel( 'country'.upper(), fontsize=16) \n",
    "#name the y axis and let the fontsize equals to 16px \n",
    "plt.ylabel('Number of People'.upper(),fontsize=16) \n",
    "#give the title a name and give it a font-size of 24px \n",
    "plt.title('distribution by country'.upper(), fontsize=24) "
   ]
  },
  {
   "cell_type": "code",
   "execution_count": 24,
   "metadata": {},
   "outputs": [
    {
     "data": {
      "image/png": "[encoded data removed]",
      "text/plain": [
       "<Figure size 432x288 with 1 Axes>"
      ]
     },
     "metadata": {
      "needs_background": "light"
     },
     "output_type": "display_data"
    }
   ],
   "source": [
    "#Calculate the mean of the ages of each of the award\n",
    "award_data = dataset.groupby('award').award_age.mean()\n",
    "#plot graph of grouped data and give the bars a color of blue \n",
    "award_data.plot(kind=\"bar\", fontsize=12, color='orange') \n",
    "#name the x axis and let the fontsize equals to 16px \n",
    "plt.xlabel( 'Award'.upper(), fontsize=16) \n",
    "#name the y axis and let the fontsize equals to 16px \n",
    "plt.ylabel('Mean Age'.upper(),fontsize=16) \n",
    "#give the title a name and give it a font-size of 24px \n",
    "plt.title('AGE DISTRIBUTION'.upper(), fontsize=24) \n",
    "plt.show()"
   ]
  },
  {
   "cell_type": "markdown",
   "metadata": {},
   "source": [
    "## Discretizing our age"
   ]
  },
  {
   "cell_type": "code",
   "execution_count": 25,
   "metadata": {},
   "outputs": [],
   "source": [
    "age_buckets = []\n",
    "age = list(dataset['award_age'])\n",
    "for i in range(len(age)):\n",
    "    if age[i] < 35 :#any ages below 35 have been replaced with 1 \n",
    "        age_buckets.append(1)\n",
    "    elif age[i] < 45 :#ages between 35 to 44 have been replaced with 2\n",
    "        age_buckets.append(2)\n",
    "    elif age[i] < 55 :#ages between 45 to 54 have been replaced with 3\n",
    "        age_buckets.append(3)\n",
    "    else:#ages from 55 upwards have been replaced with 4\n",
    "        age_buckets.append(4)\n"
   ]
  },
  {
   "cell_type": "code",
   "execution_count": 26,
   "metadata": {},
   "outputs": [
    {
     "data": {
      "text/html": [
       "<div>\n",
       "<style scoped>\n",
       "    .dataframe tbody tr th:only-of-type {\n",
       "        vertical-align: middle;\n",
       "    }\n",
       "\n",
       "    .dataframe tbody tr th {\n",
       "        vertical-align: top;\n",
       "    }\n",
       "\n",
       "    .dataframe thead th {\n",
       "        text-align: right;\n",
       "    }\n",
       "</style>\n",
       "<table border=\"1\" class=\"dataframe\">\n",
       "  <thead>\n",
       "    <tr style=\"text-align: right;\">\n",
       "      <th></th>\n",
       "      <th>birthplace</th>\n",
       "      <th>date_of_birth</th>\n",
       "      <th>race_ethnicity</th>\n",
       "      <th>year_of_award</th>\n",
       "      <th>award</th>\n",
       "      <th>gender</th>\n",
       "      <th>ldob</th>\n",
       "      <th>country</th>\n",
       "      <th>award_age</th>\n",
       "      <th>sexual_orientation</th>\n",
       "      <th>movie</th>\n",
       "      <th>religion</th>\n",
       "      <th>person</th>\n",
       "      <th>age_buckets</th>\n",
       "    </tr>\n",
       "  </thead>\n",
       "  <tbody>\n",
       "    <tr>\n",
       "      <th>0</th>\n",
       "      <td>Chisinau, Moldova</td>\n",
       "      <td>30-Sep-1895</td>\n",
       "      <td>White</td>\n",
       "      <td>1927</td>\n",
       "      <td>Best Director</td>\n",
       "      <td>Male</td>\n",
       "      <td>11</td>\n",
       "      <td>Moldova</td>\n",
       "      <td>32</td>\n",
       "      <td>Straight</td>\n",
       "      <td>Two Arabian Knights</td>\n",
       "      <td>Na</td>\n",
       "      <td>Lewis Milestone</td>\n",
       "      <td>1</td>\n",
       "    </tr>\n",
       "    <tr>\n",
       "      <th>1</th>\n",
       "      <td>Glasgow, Scotland</td>\n",
       "      <td>02-Feb-1886</td>\n",
       "      <td>White</td>\n",
       "      <td>1930</td>\n",
       "      <td>Best Director</td>\n",
       "      <td>Female</td>\n",
       "      <td>10</td>\n",
       "      <td>Scotland</td>\n",
       "      <td>44</td>\n",
       "      <td>Straight</td>\n",
       "      <td>The Divine Lady</td>\n",
       "      <td>Na</td>\n",
       "      <td>Frank Lloyd</td>\n",
       "      <td>2</td>\n",
       "    </tr>\n",
       "    <tr>\n",
       "      <th>2</th>\n",
       "      <td>Chisinau, Moldova</td>\n",
       "      <td>30-Sep-1895</td>\n",
       "      <td>White</td>\n",
       "      <td>1931</td>\n",
       "      <td>Best Director</td>\n",
       "      <td>Male</td>\n",
       "      <td>11</td>\n",
       "      <td>Moldova</td>\n",
       "      <td>36</td>\n",
       "      <td>Straight</td>\n",
       "      <td>All Quiet on the Western Front</td>\n",
       "      <td>Na</td>\n",
       "      <td>Lewis Milestone</td>\n",
       "      <td>2</td>\n",
       "    </tr>\n",
       "  </tbody>\n",
       "</table>\n",
       "</div>"
      ],
      "text/plain": [
       "          birthplace date_of_birth race_ethnicity  year_of_award  \\\n",
       "0  Chisinau, Moldova   30-Sep-1895          White           1927   \n",
       "1  Glasgow, Scotland   02-Feb-1886          White           1930   \n",
       "2  Chisinau, Moldova   30-Sep-1895          White           1931   \n",
       "\n",
       "           award  gender  ldob   country  award_age sexual_orientation  \\\n",
       "0  Best Director    Male    11   Moldova         32           Straight   \n",
       "1  Best Director  Female    10  Scotland         44           Straight   \n",
       "2  Best Director    Male    11   Moldova         36           Straight   \n",
       "\n",
       "                            movie religion           person  age_buckets  \n",
       "0             Two Arabian Knights       Na  Lewis Milestone            1  \n",
       "1                 The Divine Lady       Na      Frank Lloyd            2  \n",
       "2  All Quiet on the Western Front       Na  Lewis Milestone            2  "
      ]
     },
     "execution_count": 26,
     "metadata": {},
     "output_type": "execute_result"
    }
   ],
   "source": [
    "dataset['age_buckets'] = age_buckets\n",
    "dataset.head(3)"
   ]
  },
  {
   "cell_type": "markdown",
   "metadata": {},
   "source": [
    "## Building our model"
   ]
  },
  {
   "cell_type": "code",
   "execution_count": 27,
   "metadata": {},
   "outputs": [],
   "source": [
    "# split the data into train and test set\n",
    "import matplotlib.pyplot as plt  \n",
    "from sklearn.metrics import plot_confusion_matrix\n",
    "from sklearn.model_selection import train_test_split\n",
    "from sklearn.ensemble import RandomForestClassifier\n",
    "\n",
    "\n",
    "X=dataset[['race_ethnicity','country','award_age']]\n",
    "X=pd.get_dummies(X,columns=['race_ethnicity','country'])\n",
    "y=dataset['award']\n",
    "\n",
    "\n",
    "# Spliting X and Y in 80 : 20 ratio (train : test)\n",
    "X_train, X_test, y_train, y_test = train_test_split(X, y,random_state=2,test_size=0.2)"
   ]
  },
  {
   "cell_type": "markdown",
   "metadata": {},
   "source": [
    "## Training the Logistic Regression model on the Training set"
   ]
  },
  {
   "cell_type": "code",
   "execution_count": 28,
   "metadata": {},
   "outputs": [
    {
     "data": {
      "text/plain": [
       "LogisticRegression(random_state=0)"
      ]
     },
     "execution_count": 28,
     "metadata": {},
     "output_type": "execute_result"
    }
   ],
   "source": [
    "from sklearn.linear_model import LogisticRegression\n",
    "\n",
    "clf = LogisticRegression(random_state = 0)\n",
    "\n",
    "clf.fit(X_train, y_train)"
   ]
  },
  {
   "cell_type": "code",
   "execution_count": 29,
   "metadata": {},
   "outputs": [
    {
     "name": "stdout",
     "output_type": "stream",
     "text": [
      "Accuracy score for training data is: 0.447\n",
      "Accuracy score for test data: 0.352\n"
     ]
    },
    {
     "data": {
      "image/png": "[encoded data removed]",
      "text/plain": [
       "<Figure size 432x288 with 2 Axes>"
      ]
     },
     "metadata": {
      "needs_background": "light"
     },
     "output_type": "display_data"
    },
    {
     "name": "stdout",
     "output_type": "stream",
     "text": [
      "Cross validation mean score: 0.3695824524312896\n",
      "Cross validation scores [0.27272727 0.38636364 0.40909091 0.36363636 0.43181818 0.3255814\n",
      " 0.3255814  0.44186047]\n"
     ]
    }
   ],
   "source": [
    "#outputing the value of our accuracy\n",
    "print(\"Accuracy score for training data is: {:4.3f}\".format(clf.score(X_train, y_train)))\n",
    "print(\"Accuracy score for test data: {:4.3f}\".format(clf.score(X_test, y_test)))\n",
    "\n",
    "plot_confusion_matrix(clf, X_test, y_test)\n",
    "plt.xticks(rotation='vertical')\n",
    "plt.show()\n",
    "\n",
    "from sklearn.model_selection import KFold, cross_val_score\n",
    "from sklearn import feature_selection, linear_model, model_selection\n",
    "\n",
    "#displaying the value of our cross validation\n",
    "scores = model_selection.cross_val_score(clf, X_train, y_train, scoring='accuracy', cv=8)\n",
    "print(\"Cross validation mean score: {}\".format(scores.mean()))\n",
    "print(\"Cross validation scores\", scores)"
   ]
  },
  {
   "cell_type": "markdown",
   "metadata": {},
   "source": [
    "## Training the K-NN model on the Training set"
   ]
  },
  {
   "cell_type": "code",
   "execution_count": 30,
   "metadata": {},
   "outputs": [
    {
     "data": {
      "text/plain": [
       "KNeighborsClassifier()"
      ]
     },
     "execution_count": 30,
     "metadata": {},
     "output_type": "execute_result"
    }
   ],
   "source": [
    "from sklearn.neighbors import KNeighborsClassifier\n",
    "clf = KNeighborsClassifier(n_neighbors = 5, metric = 'minkowski', p = 2)\n",
    "clf.fit(X_train, y_train)"
   ]
  },
  {
   "cell_type": "code",
   "execution_count": 31,
   "metadata": {},
   "outputs": [
    {
     "name": "stdout",
     "output_type": "stream",
     "text": [
      "Accuracy score for training data is: 0.510\n",
      "Accuracy score for test data: 0.307\n"
     ]
    },
    {
     "data": {
      "image/png": "[encoded data removed]",
      "text/plain": [
       "<Figure size 432x288 with 2 Axes>"
      ]
     },
     "metadata": {
      "needs_background": "light"
     },
     "output_type": "display_data"
    },
    {
     "name": "stdout",
     "output_type": "stream",
     "text": [
      "Cross validation mean scores:0.33813424947145876\n",
      "Cross validation mean scores: [0.27272727 0.36363636 0.36363636 0.31818182 0.36363636 0.27906977\n",
      " 0.37209302 0.37209302]\n"
     ]
    }
   ],
   "source": [
    "#outputing the value of our accuracy\n",
    "print(\"Accuracy score for training data is: {:4.3f}\".format(clf.score(X_train, y_train)))\n",
    "print(\"Accuracy score for test data: {:4.3f}\".format(clf.score(X_test, y_test)))\n",
    "\n",
    "plot_confusion_matrix(clf, X_test, y_test)\n",
    "plt.xticks(rotation='vertical')\n",
    "plt.show()\n",
    " \n",
    "#displaying the value of our cross validation\n",
    "\n",
    "scores = model_selection.cross_val_score(clf, X_train, y_train, scoring='accuracy', cv=8)\n",
    "print(\"Cross validation mean scores:{}\".format(scores.mean()))\n",
    "print(\"Cross validation mean scores:\",scores)"
   ]
  },
  {
   "cell_type": "markdown",
   "metadata": {},
   "source": [
    "## Training the random forest model on the training set "
   ]
  },
  {
   "cell_type": "code",
   "execution_count": 32,
   "metadata": {},
   "outputs": [
    {
     "name": "stdout",
     "output_type": "stream",
     "text": [
      "Accuracy score for training data is: 0.510\n",
      "Accuracy score for test data: 0.307\n"
     ]
    },
    {
     "data": {
      "image/png": "[encoded data removed]",
      "text/plain": [
       "<Figure size 432x288 with 2 Axes>"
      ]
     },
     "metadata": {
      "needs_background": "light"
     },
     "output_type": "display_data"
    },
    {
     "name": "stdout",
     "output_type": "stream",
     "text": [
      "Cross validation mean scores:0.36416490486257924\n",
      "Cross validation mean scores: [0.22727273 0.34090909 0.43181818 0.31818182 0.40909091 0.41860465\n",
      " 0.3255814  0.44186047]\n"
     ]
    }
   ],
   "source": [
    "#outputing the value of our accuracy \n",
    "print(\"Accuracy score for training data is: {:4.3f}\".format(clf.score(X_train, y_train)))\n",
    "print(\"Accuracy score for test data: {:4.3f}\".format(clf.score(X_test, y_test)))\n",
    "\n",
    "clf = RandomForestClassifier()\n",
    "clf.fit(X_train, y_train)\n",
    "plot_confusion_matrix(clf, X_test, y_test)\n",
    "plt.xticks(rotation='vertical')\n",
    "plt.show()\n",
    "\n",
    "\n",
    "#displaying the value of our cross validation\n",
    "scores = model_selection.cross_val_score(clf, X_train, y_train, scoring='accuracy', cv=8)\n",
    "print(\"Cross validation mean scores:{}\".format(scores.mean()))\n",
    "print(\"Cross validation mean scores:\",scores)"
   ]
  },
  {
   "cell_type": "markdown",
   "metadata": {},
   "source": [
    "## IMPROVING OUR MODEL "
   ]
  },
  {
   "cell_type": "markdown",
   "metadata": {},
   "source": [
    "## USING FEATURE SELECTION TO DETERMINE THE BEST FEATURES TO USE FROM OUR DATASET"
   ]
  },
  {
   "cell_type": "code",
   "execution_count": 33,
   "metadata": {
    "scrolled": false
   },
   "outputs": [
    {
     "name": "stdout",
     "output_type": "stream",
     "text": [
      "     race_ethnicity  country  award_age  sexual_orientation  religion  movie  \\\n",
      "0               5.0     18.0       14.0                 5.0      15.0  317.0   \n",
      "1               5.0     23.0       26.0                 5.0      15.0  242.0   \n",
      "2               5.0     18.0       18.0                 5.0      15.0   21.0   \n",
      "3               5.0     30.0       15.0                 5.0      15.0  209.0   \n",
      "4               5.0     30.0       21.0                 5.0      19.0   34.0   \n",
      "..              ...      ...        ...                 ...       ...    ...   \n",
      "436             5.0      7.0       17.0                 5.0      12.0  236.0   \n",
      "437             5.0      7.0       35.0                 5.0      19.0  210.0   \n",
      "438             5.0     30.0       37.0                 5.0      15.0   24.0   \n",
      "439             5.0     30.0       52.0                 5.0      15.0   17.0   \n",
      "440             5.0     30.0       25.0                 5.0      15.0  299.0   \n",
      "\n",
      "     person  gender  \n",
      "0     208.0     1.0  \n",
      "1      92.0     0.0  \n",
      "2     208.0     1.0  \n",
      "3     256.0     0.0  \n",
      "4      90.0     0.0  \n",
      "..      ...     ...  \n",
      "436   273.0     0.0  \n",
      "437    57.0     1.0  \n",
      "438   151.0     1.0  \n",
      "439   142.0     1.0  \n",
      "440   177.0     1.0  \n",
      "\n",
      "[437 rows x 8 columns]\n",
      "                Specs       Score\n",
      "2           award_age  425.315191\n",
      "7              gender  144.391422\n",
      "6              person   60.150064\n",
      "5               movie   48.009207\n",
      "1             country   32.752650\n",
      "4            religion    5.102099\n",
      "0      race_ethnicity    3.010500\n",
      "3  sexual_orientation    0.609002\n"
     ]
    }
   ],
   "source": [
    "\n",
    "import pandas as pd\n",
    "import numpy as np\n",
    "from sklearn.feature_selection import SelectKBest\n",
    "from sklearn.feature_selection import chi2\n",
    "from sklearn.preprocessing import LabelEncoder as le\n",
    "from sklearn.preprocessing import OrdinalEncoder\n",
    "\n",
    "\n",
    "\n",
    "dataset_test= dataset\n",
    "\n",
    "\n",
    "ord_enc = OrdinalEncoder()\n",
    "dataset_test[\"religion\"] = ord_enc.fit_transform(dataset_test[[\"religion\"]])\n",
    "dataset_test[\"race_ethnicity\"] = ord_enc.fit_transform(dataset_test[[\"race_ethnicity\"]])\n",
    "dataset_test[\"country\"] = ord_enc.fit_transform(dataset_test[[\"country\"]])\n",
    "dataset_test[\"sexual_orientation\"] = ord_enc.fit_transform(dataset_test[[\"sexual_orientation\"]])\n",
    "dataset_test[\"movie\"] = ord_enc.fit_transform(dataset_test[[\"movie\"]])\n",
    "dataset_test[\"person\"] = ord_enc.fit_transform(dataset_test[[\"person\"]])\n",
    "dataset_test[\"award_age\"] = ord_enc.fit_transform(dataset_test[[\"award_age\"]])\n",
    "dataset_test[\"gender\"] = ord_enc.fit_transform(dataset_test[[\"gender\"]])\n",
    "\n",
    "\n",
    "\n",
    "dataset_test.head(11)\n",
    "\n",
    "\n",
    "X = dataset_test[['race_ethnicity','country','award_age','sexual_orientation','religion', 'movie', 'person','gender']]  #independent columns\n",
    "y = dataset_test['award']    #target column \n",
    "print(X)\n",
    "\n",
    "\n",
    "#apply SelectKBest class to extract top 10 best features\n",
    "bestfeatures = SelectKBest(score_func=chi2, k=6)\n",
    "fit = bestfeatures.fit(X,y)\n",
    "\n",
    "dfscores = pd.DataFrame(fit.scores_)\n",
    "dfcolumns = pd.DataFrame(X.columns)\n",
    "\n",
    "#concat two dataframes for better visualization \n",
    "featureScores = pd.concat([dfcolumns,dfscores],axis=1)\n",
    "featureScores.columns = ['Specs','Score']  #naming the dataframe columns\n",
    "print(featureScores.nlargest(8,'Score'))  #print 10 best features "
   ]
  },
  {
   "cell_type": "markdown",
   "metadata": {},
   "source": [
    "## Training the Logistic Regression model on the Training set with an added column"
   ]
  },
  {
   "cell_type": "code",
   "execution_count": 34,
   "metadata": {},
   "outputs": [],
   "source": [
    "# split the data into train and test set\n",
    "X=dataset[['race_ethnicity','country','award_age','religion','sexual_orientation','gender']]\n",
    "X=pd.get_dummies(X,columns=['race_ethnicity','country','religion','sexual_orientation','gender'])\n",
    "y=dataset['award']\n",
    "X_train, X_test, y_train, y_test = train_test_split(X, y,random_state=1,test_size=0.2)"
   ]
  },
  {
   "cell_type": "code",
   "execution_count": 35,
   "metadata": {},
   "outputs": [
    {
     "data": {
      "text/plain": [
       "LogisticRegression(random_state=0)"
      ]
     },
     "execution_count": 35,
     "metadata": {},
     "output_type": "execute_result"
    }
   ],
   "source": [
    "#importing our logistic regressor \n",
    "from sklearn.linear_model import LogisticRegression\n",
    "\n",
    "clf = LogisticRegression(random_state = 0)\n",
    "clf.fit(X_train, y_train)"
   ]
  },
  {
   "cell_type": "code",
   "execution_count": 36,
   "metadata": {},
   "outputs": [
    {
     "name": "stdout",
     "output_type": "stream",
     "text": [
      "Accuracy score for training data is: 0.630\n",
      "Accuracy score for test data: 0.489\n",
      "Cross validation mean scores: 0.4820295983086681\n",
      "Cross validation mean scores: [0.43181818 0.43181818 0.36363636 0.43181818 0.52272727 0.55813953\n",
      " 0.58139535 0.53488372]\n"
     ]
    },
    {
     "data": {
      "image/png": "[encoded data removed]",
      "text/plain": [
       "<Figure size 432x288 with 2 Axes>"
      ]
     },
     "metadata": {
      "needs_background": "light"
     },
     "output_type": "display_data"
    }
   ],
   "source": [
    "#outputing the value of our accuracy \n",
    "print(\"Accuracy score for training data is: {:4.3f}\".format(clf.score(X_train, y_train)))\n",
    "print(\"Accuracy score for test data: {:4.3f}\".format(clf.score(X_test, y_test)))\n",
    "\n",
    "from sklearn.model_selection import KFold, cross_val_score\n",
    "from sklearn import feature_selection, linear_model, model_selection\n",
    "\n",
    "scores = model_selection.cross_val_score(clf, X_train, y_train, scoring='accuracy', cv=8)\n",
    "\n",
    "#displaying the value of our cross validation\n",
    "print(\"Cross validation mean scores: {}\".format(scores.mean()))\n",
    "print(\"Cross validation mean scores:\",scores)\n",
    "plot_confusion_matrix(clf, X_test, y_test)\n",
    "plt.xticks(rotation='vertical')\n",
    "plt.show()"
   ]
  },
  {
   "cell_type": "markdown",
   "metadata": {},
   "source": [
    "## Training the K-NN model on the Training set with an added column"
   ]
  },
  {
   "cell_type": "code",
   "execution_count": 37,
   "metadata": {},
   "outputs": [
    {
     "data": {
      "text/plain": [
       "KNeighborsClassifier(n_neighbors=2)"
      ]
     },
     "execution_count": 37,
     "metadata": {},
     "output_type": "execute_result"
    }
   ],
   "source": [
    "from sklearn.neighbors import KNeighborsClassifier\n",
    "\n",
    "X=dataset[['race_ethnicity','country','award_age','religion','gender']]\n",
    "\n",
    "X=pd.get_dummies(X,columns=['race_ethnicity','country','religion','gender'])\n",
    "\n",
    "y=dataset['award']\n",
    "\n",
    "X_train, X_test, y_train, y_test = train_test_split(X, y,random_state=1,test_size=0.2)\n",
    "\n",
    "clf = KNeighborsClassifier(n_neighbors=2)\n",
    "\n",
    "clf.fit(X_train, y_train)"
   ]
  },
  {
   "cell_type": "code",
   "execution_count": 38,
   "metadata": {},
   "outputs": [
    {
     "name": "stdout",
     "output_type": "stream",
     "text": [
      "Cross validation mean scores: 0.35835095137420725\n",
      "Cross validation mean scores: [0.43181818 0.29545455 0.29545455 0.34090909 0.36363636 0.34883721\n",
      " 0.37209302 0.41860465]\n"
     ]
    },
    {
     "data": {
      "image/png": "[encoded data removed]",
      "text/plain": [
       "<Figure size 432x288 with 2 Axes>"
      ]
     },
     "metadata": {
      "needs_background": "light"
     },
     "output_type": "display_data"
    },
    {
     "name": "stdout",
     "output_type": "stream",
     "text": [
      "Accuracy score for training data is: 0.648\n",
      "Accuracy score for test data: 0.295\n"
     ]
    }
   ],
   "source": [
    "\n",
    "from sklearn.model_selection import KFold, cross_val_score\n",
    "from sklearn import feature_selection, linear_model, model_selection\n",
    "\n",
    "scores = model_selection.cross_val_score(clf, X_train, y_train, scoring='accuracy', cv=8)\n",
    "\n",
    "#displaying the value of our cross validation \n",
    "print(\"Cross validation mean scores: {}\".format(scores.mean()))\n",
    "print(\"Cross validation mean scores:\",scores)\n",
    "plot_confusion_matrix(clf, X_test, y_test)\n",
    "plt.xticks(rotation='vertical')\n",
    "plt.show()\n",
    "\n",
    "\n",
    "\n",
    "#outputing the value of our accuracy on both the training data and test data\n",
    "print(\"Accuracy score for training data is: {:4.3f}\".format(clf.score(X_train, y_train)))\n",
    "print(\"Accuracy score for test data: {:4.3f}\".format(clf.score(X_test, y_test)))"
   ]
  },
  {
   "cell_type": "markdown",
   "metadata": {},
   "source": [
    "## Training the random forest model on the training set with the added column "
   ]
  },
  {
   "cell_type": "code",
   "execution_count": 39,
   "metadata": {
    "scrolled": true
   },
   "outputs": [],
   "source": [
    "# split the data into train and test set\n",
    "\n",
    "#selecting the columns we would be using for the model \n",
    "\n",
    "X=dataset[['race_ethnicity','award_age','religion','country','gender']]\n",
    "X=pd.get_dummies(X,columns=['race_ethnicity','religion','country','gender'])\n",
    "y=dataset['award']\n",
    "\n",
    "X_train, X_test, y_train, y_test = train_test_split(X, y,random_state=1,test_size=0.2)\n"
   ]
  },
  {
   "cell_type": "code",
   "execution_count": 40,
   "metadata": {},
   "outputs": [
    {
     "data": {
      "image/png": "[encoded data removed]",
      "text/plain": [
       "<Figure size 432x288 with 2 Axes>"
      ]
     },
     "metadata": {
      "needs_background": "light"
     },
     "output_type": "display_data"
    },
    {
     "name": "stdout",
     "output_type": "stream",
     "text": [
      "Accuracy score for training data is: 0.748\n",
      "Accuracy score for test data: 0.511\n",
      "Cross validation mean scores:0.4876453488372093\n",
      "Cross validation mean scores: [0.38636364 0.40909091 0.45454545 0.45454545 0.54545455 0.60465116\n",
      " 0.51162791 0.53488372]\n"
     ]
    }
   ],
   "source": [
    "\n",
    "clf = RandomForestClassifier(n_estimators=1000,max_depth=10)\n",
    "\n",
    "#applying our classifier on the on our training set \n",
    "clf.fit(X_train, y_train)\n",
    "\n",
    "plot_confusion_matrix(clf, X_test, y_test)\n",
    "plt.xticks(rotation='vertical')\n",
    "plt.show()\n",
    "\n",
    "#outputing the value of our accuracy \n",
    "print(\"Accuracy score for training data is: {:4.3f}\".format(clf.score(X_train, y_train)))\n",
    "print(\"Accuracy score for test data: {:4.3f}\".format(clf.score(X_test, y_test)))\n",
    "\n",
    "scores = model_selection.cross_val_score(clf, X_train, y_train, scoring='accuracy', cv=8)\n",
    "\n",
    "print(\"Cross validation mean scores:{}\".format(scores.mean()))\n",
    "print(\"Cross validation mean scores:\",scores)\n"
   ]
  },
  {
   "cell_type": "code",
   "execution_count": 41,
   "metadata": {},
   "outputs": [],
   "source": [
    "#importing KMeans\n",
    "from sklearn.cluster import KMeans"
   ]
  },
  {
   "cell_type": "code",
   "execution_count": 42,
   "metadata": {
    "scrolled": true
   },
   "outputs": [
    {
     "data": {
      "text/html": [
       "<div>\n",
       "<style scoped>\n",
       "    .dataframe tbody tr th:only-of-type {\n",
       "        vertical-align: middle;\n",
       "    }\n",
       "\n",
       "    .dataframe tbody tr th {\n",
       "        vertical-align: top;\n",
       "    }\n",
       "\n",
       "    .dataframe thead th {\n",
       "        text-align: right;\n",
       "    }\n",
       "</style>\n",
       "<table border=\"1\" class=\"dataframe\">\n",
       "  <thead>\n",
       "    <tr style=\"text-align: right;\">\n",
       "      <th></th>\n",
       "      <th>award_age</th>\n",
       "      <th>race_ethnicity_0.0</th>\n",
       "      <th>race_ethnicity_1.0</th>\n",
       "      <th>race_ethnicity_2.0</th>\n",
       "      <th>race_ethnicity_3.0</th>\n",
       "      <th>race_ethnicity_4.0</th>\n",
       "      <th>race_ethnicity_5.0</th>\n",
       "      <th>birthplace_Arlington, USA</th>\n",
       "      <th>birthplace_Astoria, USA</th>\n",
       "      <th>birthplace_Athens, Greece</th>\n",
       "      <th>...</th>\n",
       "      <th>award_Best Actress</th>\n",
       "      <th>award_Best Director</th>\n",
       "      <th>award_Best Supporting Actor</th>\n",
       "      <th>award_Best Supporting Actress</th>\n",
       "      <th>sexual_orientation_0.0</th>\n",
       "      <th>sexual_orientation_1.0</th>\n",
       "      <th>sexual_orientation_2.0</th>\n",
       "      <th>sexual_orientation_3.0</th>\n",
       "      <th>sexual_orientation_4.0</th>\n",
       "      <th>sexual_orientation_5.0</th>\n",
       "    </tr>\n",
       "  </thead>\n",
       "  <tbody>\n",
       "    <tr>\n",
       "      <th>0</th>\n",
       "      <td>0.225806</td>\n",
       "      <td>0.0</td>\n",
       "      <td>0.0</td>\n",
       "      <td>0.0</td>\n",
       "      <td>0.0</td>\n",
       "      <td>0.0</td>\n",
       "      <td>1.0</td>\n",
       "      <td>0.0</td>\n",
       "      <td>0.0</td>\n",
       "      <td>0.0</td>\n",
       "      <td>...</td>\n",
       "      <td>0.0</td>\n",
       "      <td>1.0</td>\n",
       "      <td>0.0</td>\n",
       "      <td>0.0</td>\n",
       "      <td>0.0</td>\n",
       "      <td>0.0</td>\n",
       "      <td>0.0</td>\n",
       "      <td>0.0</td>\n",
       "      <td>0.0</td>\n",
       "      <td>1.0</td>\n",
       "    </tr>\n",
       "    <tr>\n",
       "      <th>1</th>\n",
       "      <td>0.419355</td>\n",
       "      <td>0.0</td>\n",
       "      <td>0.0</td>\n",
       "      <td>0.0</td>\n",
       "      <td>0.0</td>\n",
       "      <td>0.0</td>\n",
       "      <td>1.0</td>\n",
       "      <td>0.0</td>\n",
       "      <td>0.0</td>\n",
       "      <td>0.0</td>\n",
       "      <td>...</td>\n",
       "      <td>0.0</td>\n",
       "      <td>1.0</td>\n",
       "      <td>0.0</td>\n",
       "      <td>0.0</td>\n",
       "      <td>0.0</td>\n",
       "      <td>0.0</td>\n",
       "      <td>0.0</td>\n",
       "      <td>0.0</td>\n",
       "      <td>0.0</td>\n",
       "      <td>1.0</td>\n",
       "    </tr>\n",
       "  </tbody>\n",
       "</table>\n",
       "<p>2 rows × 249 columns</p>\n",
       "</div>"
      ],
      "text/plain": [
       "   award_age  race_ethnicity_0.0  race_ethnicity_1.0  race_ethnicity_2.0  \\\n",
       "0   0.225806                 0.0                 0.0                 0.0   \n",
       "1   0.419355                 0.0                 0.0                 0.0   \n",
       "\n",
       "   race_ethnicity_3.0  race_ethnicity_4.0  race_ethnicity_5.0  \\\n",
       "0                 0.0                 0.0                 1.0   \n",
       "1                 0.0                 0.0                 1.0   \n",
       "\n",
       "   birthplace_Arlington, USA  birthplace_Astoria, USA  \\\n",
       "0                        0.0                      0.0   \n",
       "1                        0.0                      0.0   \n",
       "\n",
       "   birthplace_Athens, Greece  ...  award_Best Actress  award_Best Director  \\\n",
       "0                        0.0  ...                 0.0                  1.0   \n",
       "1                        0.0  ...                 0.0                  1.0   \n",
       "\n",
       "   award_Best Supporting Actor  award_Best Supporting Actress  \\\n",
       "0                          0.0                            0.0   \n",
       "1                          0.0                            0.0   \n",
       "\n",
       "   sexual_orientation_0.0  sexual_orientation_1.0  sexual_orientation_2.0  \\\n",
       "0                     0.0                     0.0                     0.0   \n",
       "1                     0.0                     0.0                     0.0   \n",
       "\n",
       "   sexual_orientation_3.0  sexual_orientation_4.0  sexual_orientation_5.0  \n",
       "0                     0.0                     0.0                     1.0  \n",
       "1                     0.0                     0.0                     1.0  \n",
       "\n",
       "[2 rows x 249 columns]"
      ]
     },
     "execution_count": 42,
     "metadata": {},
     "output_type": "execute_result"
    }
   ],
   "source": [
    "cluster = dataset[['race_ethnicity', 'award_age','birthplace','award','sexual_orientation']]\n",
    "cluster = pd.get_dummies(cluster, columns = ['race_ethnicity','birthplace','award','sexual_orientation'])\n",
    "\n",
    "## normalisation of the data\n",
    "cluster = (cluster - cluster.min()) / (cluster.max() - cluster.min())\n",
    "\n",
    "#print ('raw data', df.head(2))\n",
    "cluster.head(2)"
   ]
  },
  {
   "cell_type": "code",
   "execution_count": 43,
   "metadata": {},
   "outputs": [],
   "source": [
    "#importing train_test_split\n",
    "from sklearn.model_selection import train_test_split"
   ]
  },
  {
   "cell_type": "code",
   "execution_count": 44,
   "metadata": {},
   "outputs": [
    {
     "data": {
      "text/plain": [
       "KMeans(max_iter=500, random_state=10)"
      ]
     },
     "execution_count": 44,
     "metadata": {},
     "output_type": "execute_result"
    }
   ],
   "source": [
    "km = KMeans(random_state=10, max_iter=500)\n",
    "km.fit(cluster)"
   ]
  },
  {
   "cell_type": "markdown",
   "metadata": {},
   "source": [
    "# 3. Clustering"
   ]
  },
  {
   "cell_type": "code",
   "execution_count": 45,
   "metadata": {},
   "outputs": [
    {
     "data": {
      "image/png": "[encoded data removed]",
      "text/plain": [
       "<Figure size 864x576 with 1 Axes>"
      ]
     },
     "metadata": {
      "needs_background": "light"
     },
     "output_type": "display_data"
    }
   ],
   "source": [
    "distortions = []\n",
    "for i in range(1, 11):#iterating through the set range \n",
    "    km = KMeans(n_clusters=i, init='random',n_init=10, max_iter=300, random_state=0)\n",
    "    km.fit(cluster)\n",
    "    distortions.append(km.inertia_)\n",
    "\n",
    "#graph\n",
    "plt.figure(figsize=(12,8))\n",
    "plt.plot(range(1, 11), distortions, marker='o')\n",
    "plt.xlabel('num of clusters')\n",
    "plt.ylabel('Distortions')\n",
    "plt.show()"
   ]
  },
  {
   "cell_type": "markdown",
   "metadata": {},
   "source": [
    "## PCA CLUSTERS"
   ]
  },
  {
   "cell_type": "code",
   "execution_count": 53,
   "metadata": {
    "scrolled": false
   },
   "outputs": [
    {
     "data": {
      "image/png": "[encoded data removed]",
      "text/plain": [
       "<Figure size 1080x576 with 3 Axes>"
      ]
     },
     "metadata": {
      "needs_background": "light"
     },
     "output_type": "display_data"
    }
   ],
   "source": [
    "#visualization  of pca clusters\n",
    "\n",
    "import matplotlib.pyplot as plt\n",
    "\n",
    "from sklearn.decomposition import PCA\n",
    "\n",
    "# From above we apply k-means on 5 clusters\n",
    "pca = PCA(2)\n",
    "km = KMeans(n_clusters=5, random_state=10 , max_iter=500)\n",
    "\n",
    "km.fit(cluster)\n",
    "\n",
    "predicted = km.predict(cluster)\n",
    "\n",
    "f,(ax1, ax2,ax3) = plt.subplots(1,3,sharey = True, figsize=(15,8))\n",
    "\n",
    "plot_columns = pca.fit_transform(cluster)\n",
    "ax1.scatter(x=plot_columns[:,1], y=plot_columns[:,0], c=age_buckets)\n",
    "\n",
    "ax2.scatter(x=plot_columns[:,1], y=plot_columns[:,0])\n",
    "\n",
    "ax3.scatter(x=plot_columns[:,1], y=plot_columns[:,0], c=predicted)\n",
    "\n",
    "ax1.title.set_text(\"Clustering based on age \")\n",
    "\n",
    "ax2.title.set_text(\"Clustering pre-training\")\n",
    "\n",
    "ax3.title.set_text(\"Clusters that are predicted by model\")\n",
    "\n",
    "plt.show()\n"
   ]
  },
  {
   "cell_type": "code",
   "execution_count": null,
   "metadata": {},
   "outputs": [],
   "source": []
  },
  {
   "cell_type": "code",
   "execution_count": null,
   "metadata": {},
   "outputs": [],
   "source": []
  }
 ],
 "metadata": {
  "kernelspec": {
   "display_name": "Python 3",
   "language": "python",
   "name": "python3"
  },
  "language_info": {
   "codemirror_mode": {
    "name": "ipython",
    "version": 3
   },
   "file_extension": ".py",
   "mimetype": "text/x-python",
   "name": "python",
   "nbconvert_exporter": "python",
   "pygments_lexer": "ipython3",
   "version": "3.8.8"
  }
 },
 "nbformat": 4,
 "nbformat_minor": 4
}
